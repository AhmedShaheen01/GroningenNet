{
 "cells": [
  {
   "cell_type": "markdown",
   "metadata": {},
   "source": [
    "## This script converts the continuous mseed files of the days & the stations required to be tested into numpy arrays\n",
    "\n",
    "##### The output of this script will be numpy array of each station separately for one day log. \n",
    "\n",
    "##### Each subsequent 30-second window starts 10 seconds after the start time of the preceding time-window. This makes each time sample represented three times."
   ]
  },
  {
   "cell_type": "code",
   "execution_count": null,
   "metadata": {},
   "outputs": [],
   "source": [
    "import obspy, os, shutil\n",
    "import matplotlib.pyplot as plt\n",
    "import numpy as np\n",
    "import datetime"
   ]
  },
  {
   "cell_type": "code",
   "execution_count": null,
   "metadata": {},
   "outputs": [],
   "source": [
    "full_date='jan.2018.24'\n",
    "print('The full date of the day is: ',full_date)\n",
    "print(' ')\n",
    "print(' ')\n",
    "print('Defining some Functions...')\n",
    "print(' ')\n",
    "print(' ')"
   ]
  },
  {
   "cell_type": "code",
   "execution_count": null,
   "metadata": {},
   "outputs": [],
   "source": [
    "def unify_start_time(st):\n",
    "    st.sort(['starttime'])       #sort function works in place\n",
    "    start_time=st[-1].stats['starttime']\n",
    "    st.trim(start_time)\n",
    "    st.sort(['station'])"
   ]
  },
  {
   "cell_type": "code",
   "execution_count": null,
   "metadata": {},
   "outputs": [],
   "source": [
    "def unify_end_time(st):\n",
    "    st.sort(['endtime'])\n",
    "    end_time=st[0].stats['endtime']\n",
    "    st.trim(endtime=end_time)\n",
    "    st.sort(['station'])"
   ]
  },
  {
   "cell_type": "code",
   "execution_count": null,
   "metadata": {},
   "outputs": [],
   "source": [
    "def check_channel_arrangement(st):\n",
    "    for num,tr in enumerate(st):\n",
    "        if num%3==0:\n",
    "            if not tr.stats.channel=='HH1':\n",
    "                print(tr.stats.station,tr.stats.channel,tr.stats.starttime)\n",
    "                print('number in stream: ', num)\n",
    "                print('Check channel arrangement!!!')\n",
    "        elif num%3==1:\n",
    "            if not tr.stats.channel=='HH2':\n",
    "                print(tr.stats.station,tr.stats.channel,tr.stats.starttime)\n",
    "                print('number in stream: ', num)\n",
    "                print('Check channel arrangement!!!')\n",
    "        elif num%3==2:\n",
    "            if not tr.stats.channel=='HHZ':\n",
    "                print(tr.stats.station,tr.stats.channel,tr.stats.starttime)\n",
    "                print('number in stream: ', num)\n",
    "                print('Check channel arrangement!!!')"
   ]
  },
  {
   "cell_type": "code",
   "execution_count": null,
   "metadata": {},
   "outputs": [],
   "source": [
    "def check_borehole(st):\n",
    "    if len(st)%12==0:\n",
    "\n",
    "    \n",
    "        for x in range(0,len(st),12):\n",
    "            z=[y.stats.station[:-1] for y in st[x:x+12]]\n",
    "            t=[str(y.stats.starttime) for y in st[x:x+12]]\n",
    "            \n",
    "            if len(set(z))>1:\n",
    "                print\n",
    "                print(st[x:x+12])\n",
    "                print('Check borehole arrangement, sorting probelm')\n",
    "            if len(set(t))>1:\n",
    "                print(x)\n",
    "                print('Check borehole arrangement, starttime problem')\n",
    "    else:\n",
    "        print('They are not divisible by 12, check input files')"
   ]
  },
  {
   "cell_type": "code",
   "execution_count": null,
   "metadata": {},
   "outputs": [],
   "source": [
    "print('The current path directory is : ',os.getcwd())\n",
    "\n",
    "folder='Dec_Jan_2018_records'\n",
    "print(' ')\n",
    "print(' ')\n",
    "print('The folder where the mseed data exists is : ', folder)\n",
    "print(' ')\n",
    "print(' ')"
   ]
  },
  {
   "cell_type": "code",
   "execution_count": null,
   "metadata": {},
   "outputs": [],
   "source": [
    "month=datetime.datetime.strptime(full_date,'%b.%Y.%d').month\n",
    "#print(month)\n",
    "year=datetime.datetime.strptime(full_date,'%b.%Y.%d').year\n",
    "#print(year)\n",
    "day=datetime.datetime.strptime(full_date,'%b.%Y.%d').day\n",
    "#print(day)\n",
    "month_str=full_date.split('.')[0]\n",
    "#print(month_str)\n"
   ]
  },
  {
   "cell_type": "code",
   "execution_count": null,
   "metadata": {},
   "outputs": [],
   "source": [
    "st=obspy.Stream()\n",
    "for root,dirs,files in os.walk('../Dec_Jan_2018_records',topdown=True):\n",
    "    #print(root)\n",
    "    try:\n",
    "        st+=obspy.read(os.path.join(root,'*{}*'.format(full_date)))\n",
    "    except:\n",
    "        pass\n"
   ]
  },
  {
   "cell_type": "code",
   "execution_count": null,
   "metadata": {},
   "outputs": [],
   "source": [
    "print(' ')\n",
    "print(' ')\n",
    "print(' The date of the day is: ')\n",
    "print(' ')\n",
    "print(' ')\n",
    "print('year: ',year,' -- month: ',month_str,' -- day: ',day)\n",
    "print(' ')\n",
    "print(' ')"
   ]
  },
  {
   "cell_type": "code",
   "execution_count": null,
   "metadata": {},
   "outputs": [],
   "source": [
    "print('Stations loaded..  ')\n",
    "print(' ')\n",
    "print(' ')\n",
    "print(st.__str__(extended=True))"
   ]
  },
  {
   "cell_type": "code",
   "execution_count": null,
   "metadata": {},
   "outputs": [],
   "source": [
    "#obspy.UTCDateTime(year,month,day,23,59,58)+datetime.timedelta(days=10)"
   ]
  },
  {
   "cell_type": "code",
   "execution_count": null,
   "metadata": {},
   "outputs": [],
   "source": []
  },
  {
   "cell_type": "code",
   "execution_count": null,
   "metadata": {},
   "outputs": [],
   "source": []
  },
  {
   "cell_type": "markdown",
   "metadata": {},
   "source": [
    "day=1\n",
    "\n",
    "st=obspy.read('../May_2019_mseed_records/may_{}/*'.format(day))\n",
    "st\n",
    "st.sort(['station','channel'])\n",
    "\n",
    "print(st.__str__(extended=True))"
   ]
  },
  {
   "cell_type": "code",
   "execution_count": null,
   "metadata": {},
   "outputs": [],
   "source": [
    "x=list()\n",
    "for tr in st:\n",
    "    if tr.stats.starttime>(obspy.UTCDateTime(year,month,day,23,59,58)-datetime.timedelta(days=1)) or tr.stats.endtime<obspy.UTCDateTime(year,month,day,0,1,0)+datetime.timedelta(days=1):\n",
    "        #print(tr.stats.station)\n",
    "        x.append(tr.stats.station[:-1])\n",
    "x=list(set(x))\n",
    "print('Stations that do not have continuous records are: ')\n",
    "print(x)\n",
    "for bore in x:\n",
    "    for tr in st:\n",
    "        if bore==tr.stats.station[:-1]:\n",
    "            st.remove(tr)\n",
    "\n",
    "    "
   ]
  },
  {
   "cell_type": "code",
   "execution_count": null,
   "metadata": {},
   "outputs": [],
   "source": []
  },
  {
   "cell_type": "code",
   "execution_count": null,
   "metadata": {},
   "outputs": [],
   "source": [
    "st.sort(['station','channel'])"
   ]
  },
  {
   "cell_type": "code",
   "execution_count": null,
   "metadata": {},
   "outputs": [],
   "source": [
    "print('Trimming remaining records to day limits ')\n",
    "st.trim(obspy.UTCDateTime(year,month,day,23,59,58.5)-datetime.timedelta(days=1),\n",
    "        obspy.UTCDateTime(year,month,day,0,0,1.5)+datetime.timedelta(days=1))"
   ]
  },
  {
   "cell_type": "code",
   "execution_count": null,
   "metadata": {},
   "outputs": [],
   "source": [
    "\n"
   ]
  },
  {
   "cell_type": "code",
   "execution_count": null,
   "metadata": {
    "scrolled": true
   },
   "outputs": [],
   "source": [
    "st.sort(['station','channel','starttime'])\n",
    "print('Data after preparation...  ')\n",
    "print('  ')\n",
    "print(st.__str__(extended=True))\n"
   ]
  },
  {
   "cell_type": "code",
   "execution_count": null,
   "metadata": {},
   "outputs": [],
   "source": [
    "\n",
    "check_borehole(st)\n",
    "check_channel_arrangement(st)"
   ]
  },
  {
   "cell_type": "code",
   "execution_count": null,
   "metadata": {},
   "outputs": [],
   "source": [
    "borehole={}\n",
    "for x in range(0,len(st),12):\n",
    "    borehole[st[x].stats.station[:-1]]=st[x:x+12]"
   ]
  },
  {
   "cell_type": "code",
   "execution_count": null,
   "metadata": {
    "scrolled": true
   },
   "outputs": [],
   "source": [
    "(borehole)"
   ]
  },
  {
   "cell_type": "code",
   "execution_count": null,
   "metadata": {
    "scrolled": true
   },
   "outputs": [],
   "source": [
    "print('Stations that will be processed: ')\n",
    "for key in borehole.keys():\n",
    "    print(key)"
   ]
  },
  {
   "cell_type": "code",
   "execution_count": null,
   "metadata": {},
   "outputs": [],
   "source": []
  },
  {
   "cell_type": "code",
   "execution_count": null,
   "metadata": {},
   "outputs": [],
   "source": []
  },
  {
   "cell_type": "code",
   "execution_count": null,
   "metadata": {
    "scrolled": false
   },
   "outputs": [],
   "source": [
    "# THIS IS IF YOU WANT EACH STATION IN A SEPARATE MATRIX\n",
    "print(' ')\n",
    "print('Starting processing.. ')\n",
    "\n",
    "min_freq=5.0\n",
    "max_freq=25.0\n",
    "corner=4\n",
    "phase=False\n",
    "\n",
    "window_length=30\n",
    "taper_length=window_length*0.05\n",
    "\n",
    "twl=window_length+taper_length*2\n",
    "stp=10\n",
    "\n",
    "npts_of_a_trace=3001\n",
    "print('tapper_length ', taper_length)\n",
    "print('output window length', window_length )\n",
    "print('total sliding window length ', twl)\n",
    "\n",
    "\n",
    "\n",
    "\n",
    "arr = np.empty((0,4,npts_of_a_trace,3))\n",
    "test_dict={}\n",
    "\n",
    "#time_matrix=[]\n",
    "#test_data_dict={}\n",
    "#test_data_dict['starttime']=list(=)\n",
    "\n",
    "for key,st in borehole.items():\n",
    "    print(key)\n",
    "\n",
    "    arr = np.empty((0,4,npts_of_a_trace,3),dtype='float32')\n",
    "    for st2 in st.slide(window_length=twl, step=stp,include_partial_windows=False):\n",
    "\n",
    "        st_slide=st2.copy()\n",
    "\n",
    "        st_slide.detrend('demean')\n",
    "        st_slide.detrend('linear')\n",
    "        st_slide.taper(type='hann',max_percentage=0.05,max_length=taper_length)\n",
    "        st_slide.filter('bandpass', freqmin= min_freq ,freqmax=max_freq, corners=corner, zerophase=phase)\n",
    "        st_slide.decimate(2)\n",
    "        st_slide.trim(starttime=st_slide[0].stats.starttime+taper_length,\n",
    "                      endtime=st_slide[0].stats.endtime-taper_length)\n",
    "        #print(set([str(x.stats.starttime) for x in st_slide]))\n",
    "        #time_matrix.append(st_slide[0].stats.starttime)\n",
    "        tr_data=[tr.data for tr in st_slide]\n",
    "        #print(len(tr_data))\n",
    "        for x in range(0,len(tr_data)):\n",
    "            if tr_data[x].shape[0]!=1:\n",
    "                tr_data[x]=tr_data[x].reshape((1,1,tr_data[x].shape[0],1))\n",
    "            else:\n",
    "\n",
    "                print('error in tr_data[x].shape[0]', tr_data[x],tr_data[x].shape)\n",
    "        thre_chan=[]\n",
    "        for x in range(0,len(tr_data),3):\n",
    "            thre_chan.append(np.concatenate((tr_data[x],tr_data[x+1],tr_data[x+2]),axis=3))\n",
    "        #print('length of three channels: ',len(thre_chan))                \n",
    "        for x in range(0,len(thre_chan)):\n",
    "\n",
    "            abs_max=np.max(np.absolute(thre_chan[x]))\n",
    "            thre_chan[x]= thre_chan[x]/abs_max\n",
    "            if np.max(np.absolute(thre_chan[x]))!=1:\n",
    "                print('normalization error')\n",
    "        borehole_matrix=[]\n",
    "\n",
    "        for x in range(0,len(thre_chan),4):\n",
    "            borehole_matrix.append(np.concatenate((thre_chan[x],thre_chan[x+1],thre_chan[x+2],thre_chan[x+3]),axis=1))\n",
    "\n",
    "        #print('length of the borehole: ',len(borehole_matrix))  \n",
    "        if borehole_matrix[0].shape[2]==npts_of_a_trace:\n",
    "            arr=np.concatenate((arr,borehole_matrix[0]),axis=0)\n",
    "            if arr.shape[0]%1000==0:\n",
    "                print('array shape update',arr.shape)\n",
    "\n",
    "\n",
    "\n",
    "            #test_data_dict['starttime'].append([trace.stats.starttime for trace in st_slide])\n",
    "\n",
    "        else:\n",
    "            print('This shape is not compatible: ',borehole_matrix[0].shape[2])\n",
    "    test_dict['{}'.format(key)]=arr\n",
    "    if not os.path.isdir('./cont_data_numpy_records/{}_{}'.format(month_str,day)):\n",
    "        os.mkdir('./cont_data_numpy_records/{}_{}'.format(month_str,day))\n",
    "    np.save('./cont_data_numpy_records/{}_{}/{}_{}_{}_30_sec'.format(month_str,day,month_str,day,key),test_dict[key])\n",
    "    del test_dict[key]"
   ]
  },
  {
   "cell_type": "code",
   "execution_count": null,
   "metadata": {},
   "outputs": [],
   "source": [
    "test_dict"
   ]
  },
  {
   "cell_type": "code",
   "execution_count": null,
   "metadata": {},
   "outputs": [],
   "source": []
  },
  {
   "cell_type": "code",
   "execution_count": null,
   "metadata": {},
   "outputs": [],
   "source": []
  }
 ],
 "metadata": {
  "kernelspec": {
   "display_name": "Python 3",
   "language": "python",
   "name": "python3"
  },
  "language_info": {
   "codemirror_mode": {
    "name": "ipython",
    "version": 3
   },
   "file_extension": ".py",
   "mimetype": "text/x-python",
   "name": "python",
   "nbconvert_exporter": "python",
   "pygments_lexer": "ipython3",
   "version": "3.7.9"
  }
 },
 "nbformat": 4,
 "nbformat_minor": 2
}
