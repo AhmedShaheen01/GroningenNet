{
 "cells": [
  {
   "cell_type": "markdown",
   "metadata": {},
   "source": [
    "#### This script sorts the 4 minutes sacs (2.5 before event & 1.5 after the event) retrieved from KNMI data portal and sorts them by event "
   ]
  },
  {
   "cell_type": "code",
   "execution_count": 1,
   "metadata": {},
   "outputs": [],
   "source": [
    "import os,os.path,shutil,fnmatch   #This imports the necessary modules\n",
    "import numpy as np\n",
    "import pandas as pd"
   ]
  },
  {
   "cell_type": "code",
   "execution_count": 2,
   "metadata": {},
   "outputs": [],
   "source": [
    "root_directory = os.getcwd()       #This line gets the current directory and save it as a variable (type string)"
   ]
  },
  {
   "cell_type": "code",
   "execution_count": 3,
   "metadata": {},
   "outputs": [
    {
     "data": {
      "text/plain": [
       "'/home/afify/Projects/Revision'"
      ]
     },
     "execution_count": 3,
     "metadata": {},
     "output_type": "execute_result"
    }
   ],
   "source": [
    "root_directory                      #Just a display of the variable to make sure it is the right one"
   ]
  },
  {
   "cell_type": "code",
   "execution_count": 4,
   "metadata": {},
   "outputs": [
    {
     "name": "stdout",
     "output_type": "stream",
     "text": [
      "You current directory is  /home/afify/Projects/Revision\n",
      " do you want to change directory? [y/n]n\n"
     ]
    }
   ],
   "source": [
    "x=0\n",
    "while x!='y' and x!='n':\n",
    "    print('You current directory is ',root_directory)\n",
    "    x =input(' do you want to change directory? [y/n]')\n",
    "\n",
    "if x=='y':\n",
    "    path=str(input('Input the path you want to go from here '))\n",
    "    root_directory=os.path.join(os.getcwd(),path)\n",
    "    while not os.path.exists(root_directory):\n",
    "        print('No such directory')\n",
    "        path=str(input('Input the path you want to go from here '))\n",
    "        root_directory=os.path.join(os.getcwd(),path)\n"
   ]
  },
  {
   "cell_type": "code",
   "execution_count": 5,
   "metadata": {},
   "outputs": [
    {
     "data": {
      "text/plain": [
       "'/home/afify/Projects/Revision'"
      ]
     },
     "execution_count": 5,
     "metadata": {},
     "output_type": "execute_result"
    }
   ],
   "source": [
    "root_directory"
   ]
  },
  {
   "cell_type": "code",
   "execution_count": 6,
   "metadata": {},
   "outputs": [],
   "source": [
    "os.chdir(root_directory)"
   ]
  },
  {
   "cell_type": "code",
   "execution_count": 7,
   "metadata": {},
   "outputs": [],
   "source": [
    "#Filtering Acceleration Stations Using Channel_info.csv file"
   ]
  },
  {
   "cell_type": "code",
   "execution_count": 8,
   "metadata": {},
   "outputs": [],
   "source": [
    "df = pd.read_csv('Channels_info.csv')"
   ]
  },
  {
   "cell_type": "code",
   "execution_count": 9,
   "metadata": {},
   "outputs": [
    {
     "data": {
      "text/html": [
       "<div>\n",
       "<style scoped>\n",
       "    .dataframe tbody tr th:only-of-type {\n",
       "        vertical-align: middle;\n",
       "    }\n",
       "\n",
       "    .dataframe tbody tr th {\n",
       "        vertical-align: top;\n",
       "    }\n",
       "\n",
       "    .dataframe thead th {\n",
       "        text-align: right;\n",
       "    }\n",
       "</style>\n",
       "<table border=\"1\" class=\"dataframe\">\n",
       "  <thead>\n",
       "    <tr style=\"text-align: right;\">\n",
       "      <th></th>\n",
       "      <th>Network</th>\n",
       "      <th>Station</th>\n",
       "      <th>Location</th>\n",
       "      <th>Channel</th>\n",
       "      <th>Latitude</th>\n",
       "      <th>Longitude</th>\n",
       "      <th>Elevation</th>\n",
       "      <th>Depth</th>\n",
       "      <th>Azimuth</th>\n",
       "      <th>Dip</th>\n",
       "      <th>SensorDescription</th>\n",
       "      <th>Scale</th>\n",
       "      <th>ScaleFreq</th>\n",
       "      <th>ScaleUnits</th>\n",
       "      <th>SampleRate</th>\n",
       "      <th>StartTime</th>\n",
       "      <th>EndTime</th>\n",
       "    </tr>\n",
       "  </thead>\n",
       "  <tbody>\n",
       "    <tr>\n",
       "      <th>0</th>\n",
       "      <td>NL</td>\n",
       "      <td>BAPP</td>\n",
       "      <td>NaN</td>\n",
       "      <td>HGE</td>\n",
       "      <td>53.31482</td>\n",
       "      <td>6.83539</td>\n",
       "      <td>0</td>\n",
       "      <td>0</td>\n",
       "      <td>90.0</td>\n",
       "      <td>0</td>\n",
       "      <td>EpiS</td>\n",
       "      <td>213867.4766</td>\n",
       "      <td>1</td>\n",
       "      <td>M/S**2</td>\n",
       "      <td>200</td>\n",
       "      <td>2013-10-07T00:00:00</td>\n",
       "      <td>NaN</td>\n",
       "    </tr>\n",
       "    <tr>\n",
       "      <th>1</th>\n",
       "      <td>NL</td>\n",
       "      <td>BAPP</td>\n",
       "      <td>NaN</td>\n",
       "      <td>HGN</td>\n",
       "      <td>53.31482</td>\n",
       "      <td>6.83539</td>\n",
       "      <td>0</td>\n",
       "      <td>0</td>\n",
       "      <td>0.0</td>\n",
       "      <td>0</td>\n",
       "      <td>EpiS</td>\n",
       "      <td>213867.4766</td>\n",
       "      <td>1</td>\n",
       "      <td>M/S**2</td>\n",
       "      <td>200</td>\n",
       "      <td>2013-10-07T00:00:00</td>\n",
       "      <td>NaN</td>\n",
       "    </tr>\n",
       "    <tr>\n",
       "      <th>2</th>\n",
       "      <td>NL</td>\n",
       "      <td>BAPP</td>\n",
       "      <td>NaN</td>\n",
       "      <td>HGZ</td>\n",
       "      <td>53.31482</td>\n",
       "      <td>6.83539</td>\n",
       "      <td>0</td>\n",
       "      <td>0</td>\n",
       "      <td>0.0</td>\n",
       "      <td>-90</td>\n",
       "      <td>EpiS</td>\n",
       "      <td>213867.4766</td>\n",
       "      <td>1</td>\n",
       "      <td>M/S**2</td>\n",
       "      <td>200</td>\n",
       "      <td>2013-10-07T00:00:00</td>\n",
       "      <td>NaN</td>\n",
       "    </tr>\n",
       "    <tr>\n",
       "      <th>3</th>\n",
       "      <td>NL</td>\n",
       "      <td>BFB2</td>\n",
       "      <td>NaN</td>\n",
       "      <td>HGE</td>\n",
       "      <td>53.18751</td>\n",
       "      <td>6.76549</td>\n",
       "      <td>1</td>\n",
       "      <td>0</td>\n",
       "      <td>90.0</td>\n",
       "      <td>0</td>\n",
       "      <td>EpiS</td>\n",
       "      <td>213867.4766</td>\n",
       "      <td>1</td>\n",
       "      <td>M/S**2</td>\n",
       "      <td>200</td>\n",
       "      <td>2014-09-17T00:00:00</td>\n",
       "      <td>NaN</td>\n",
       "    </tr>\n",
       "    <tr>\n",
       "      <th>4</th>\n",
       "      <td>NL</td>\n",
       "      <td>BFB2</td>\n",
       "      <td>NaN</td>\n",
       "      <td>HGN</td>\n",
       "      <td>53.18751</td>\n",
       "      <td>6.76549</td>\n",
       "      <td>1</td>\n",
       "      <td>0</td>\n",
       "      <td>0.0</td>\n",
       "      <td>0</td>\n",
       "      <td>EpiS</td>\n",
       "      <td>213867.4766</td>\n",
       "      <td>1</td>\n",
       "      <td>M/S**2</td>\n",
       "      <td>200</td>\n",
       "      <td>2014-09-17T00:00:00</td>\n",
       "      <td>NaN</td>\n",
       "    </tr>\n",
       "  </tbody>\n",
       "</table>\n",
       "</div>"
      ],
      "text/plain": [
       "  Network Station  Location Channel  Latitude  Longitude  Elevation  Depth  \\\n",
       "0      NL    BAPP       NaN     HGE  53.31482    6.83539          0      0   \n",
       "1      NL    BAPP       NaN     HGN  53.31482    6.83539          0      0   \n",
       "2      NL    BAPP       NaN     HGZ  53.31482    6.83539          0      0   \n",
       "3      NL    BFB2       NaN     HGE  53.18751    6.76549          1      0   \n",
       "4      NL    BFB2       NaN     HGN  53.18751    6.76549          1      0   \n",
       "\n",
       "   Azimuth  Dip SensorDescription        Scale  ScaleFreq ScaleUnits  \\\n",
       "0     90.0    0              EpiS  213867.4766          1     M/S**2   \n",
       "1      0.0    0              EpiS  213867.4766          1     M/S**2   \n",
       "2      0.0  -90              EpiS  213867.4766          1     M/S**2   \n",
       "3     90.0    0              EpiS  213867.4766          1     M/S**2   \n",
       "4      0.0    0              EpiS  213867.4766          1     M/S**2   \n",
       "\n",
       "   SampleRate            StartTime EndTime  \n",
       "0         200  2013-10-07T00:00:00     NaN  \n",
       "1         200  2013-10-07T00:00:00     NaN  \n",
       "2         200  2013-10-07T00:00:00     NaN  \n",
       "3         200  2014-09-17T00:00:00     NaN  \n",
       "4         200  2014-09-17T00:00:00     NaN  "
      ]
     },
     "execution_count": 9,
     "metadata": {},
     "output_type": "execute_result"
    }
   ],
   "source": [
    "df.head()"
   ]
  },
  {
   "cell_type": "code",
   "execution_count": 10,
   "metadata": {},
   "outputs": [],
   "source": [
    "a_df=df[(df['ScaleUnits']=='M/S**2') | (df['ScaleUnits']=='PA')]"
   ]
  },
  {
   "cell_type": "code",
   "execution_count": null,
   "metadata": {},
   "outputs": [],
   "source": []
  },
  {
   "cell_type": "code",
   "execution_count": 11,
   "metadata": {},
   "outputs": [],
   "source": [
    "def identify_acceleraion_stations(df):\n",
    "    acc_stations = []\n",
    "    for key,value in df['Station'].iteritems():\n",
    "        acc_stations.append(df.loc[key,'Station'])\n",
    "    acc_stations=list(set(acc_stations))\n",
    "    print('Number of acceleration stations ', len(acc_stations))\n",
    "    return acc_stations"
   ]
  },
  {
   "cell_type": "code",
   "execution_count": 12,
   "metadata": {},
   "outputs": [
    {
     "name": "stdout",
     "output_type": "stream",
     "text": [
      "Number of acceleration stations  89\n"
     ]
    }
   ],
   "source": [
    "acc_stations=identify_acceleraion_stations(a_df)"
   ]
  },
  {
   "cell_type": "code",
   "execution_count": 13,
   "metadata": {},
   "outputs": [],
   "source": [
    "directory_files=os.listdir(root_directory)     #This line returns all files and folders in the directory as a \n",
    "                                                #python list and saves this list as a variable"
   ]
  },
  {
   "cell_type": "code",
   "execution_count": 14,
   "metadata": {},
   "outputs": [],
   "source": [
    "def remove_acceleration_stations(acc_stations,directory_files):\n",
    "    for file in directory_files:\n",
    "        for item in acc_stations:\n",
    "            if os.path.isfile(file):\n",
    "                if fnmatch.fnmatch(file,'*' + item + '*'):\n",
    "                    os.remove(file)"
   ]
  },
  {
   "cell_type": "code",
   "execution_count": 15,
   "metadata": {},
   "outputs": [],
   "source": [
    "remove_acceleration_stations(acc_stations,directory_files)"
   ]
  },
  {
   "cell_type": "code",
   "execution_count": 16,
   "metadata": {},
   "outputs": [],
   "source": [
    "#Now we sort files by event"
   ]
  },
  {
   "cell_type": "code",
   "execution_count": 17,
   "metadata": {},
   "outputs": [],
   "source": [
    "directory_files=os.listdir(root_directory)     #This line returns all files and folders in the directory as a \n",
    "                                                #python list and saves this list as a variable"
   ]
  },
  {
   "cell_type": "code",
   "execution_count": 18,
   "metadata": {},
   "outputs": [
    {
     "data": {
      "text/plain": [
       "['NL.G302..HHZ.D.2018.017.043438.SAC',\n",
       " 'NL.G324..HHZ.D.2017.355.193557.SAC',\n",
       " 'NL.N011..HHZ.D.2017.363.231247.SAC',\n",
       " 'NL.G254..HHZ.D.2018.022.153916.SAC',\n",
       " 'NL.G423..HHZ.D.2018.031.130800.SAC']"
      ]
     },
     "execution_count": 18,
     "metadata": {},
     "output_type": "execute_result"
    }
   ],
   "source": [
    "directory_files[0:5]"
   ]
  },
  {
   "cell_type": "code",
   "execution_count": 19,
   "metadata": {},
   "outputs": [],
   "source": [
    "#filter(directory_files,len(file)>4 and file[-4:]=='.SAC')"
   ]
  },
  {
   "cell_type": "code",
   "execution_count": 20,
   "metadata": {},
   "outputs": [],
   "source": [
    "def events(directory_files):\n",
    "    \"\"\"\n",
    "    The objective of this function is to identify different events present in the directory by examining the names\n",
    "    of all sac files present. It returns a list of the unique events (it doesn't iterate). \n",
    "    each event is represented by year.julianday.hour.minute.first_digit_of_the_second \n",
    "    \n",
    "    It has to take into consideration it reads only the SAC files.\n",
    "    \"\"\"\n",
    "    \n",
    "    \n",
    "    keyword_list=[]                                       # creates an empty list\n",
    "    for file in directory_files:                          # iterates over all the directories present\n",
    "        if len(file)>4 and file[-4:]=='.SAC':             # A condition that makes sure that you do the following for only the SAC files\n",
    "            \n",
    "            name_parts=file.split('.')                    # splits the file name into its parts\n",
    "            \n",
    "            \n",
    "            keyword_list.append(name_parts[5]+'.'+name_parts[6]+'.'+name_parts[7][:-1])      # takes the year.julianday.hour,minute,first_digit_of_the_second\n",
    "        else:\n",
    "            continue\n",
    "    x=list(set(keyword_list))                             #creates a list containing the unique events\n",
    "    return x                                              # returns the unique set of events"
   ]
  },
  {
   "cell_type": "code",
   "execution_count": 21,
   "metadata": {},
   "outputs": [],
   "source": [
    "FoldersNames=events(directory_files)"
   ]
  },
  {
   "cell_type": "code",
   "execution_count": 22,
   "metadata": {},
   "outputs": [
    {
     "data": {
      "text/plain": [
       "['2018.022.07201',\n",
       " '2017.356.20031',\n",
       " '2017.340.13581',\n",
       " '2018.001.14434',\n",
       " '2017.349.20524',\n",
       " '2017.349.20523',\n",
       " '2017.344.16453',\n",
       " '2017.362.13573',\n",
       " '2018.022.15391',\n",
       " '2017.340.23255',\n",
       " '2017.336.09064',\n",
       " '2017.340.13582',\n",
       " '2017.358.17465',\n",
       " '2018.020.08161',\n",
       " '2017.359.12492',\n",
       " '2018.009.15434',\n",
       " '2017.336.08572',\n",
       " '2018.020.08162',\n",
       " '2017.356.20030',\n",
       " '2017.356.19372',\n",
       " '2017.362.13572',\n",
       " '2018.001.14435',\n",
       " '2018.008.13575',\n",
       " '2018.017.04343',\n",
       " '2017.336.08573',\n",
       " '2017.344.16452',\n",
       " '2018.031.13080',\n",
       " '2017.363.23124',\n",
       " '2018.008.13574',\n",
       " '2018.031.13075',\n",
       " '2017.358.17464',\n",
       " '2017.355.19355']"
      ]
     },
     "execution_count": 22,
     "metadata": {},
     "output_type": "execute_result"
    }
   ],
   "source": [
    "FoldersNames"
   ]
  },
  {
   "cell_type": "code",
   "execution_count": 23,
   "metadata": {},
   "outputs": [],
   "source": [
    "def create_event_folders(FoldersNames):\n",
    "    '''\n",
    "    In this function you input a list of names,\n",
    "    it creates you a folder for each entry in the set\n",
    "    \n",
    "    '''\n",
    "     \n",
    "    for names in FoldersNames:              # aloop to iterate over the list of names\n",
    "        if not os.path.exists(names):       # a condition to make sure that the folder does not already exist\n",
    "            os.makedirs(names)              # makes a folder with the name provided"
   ]
  },
  {
   "cell_type": "code",
   "execution_count": 24,
   "metadata": {},
   "outputs": [],
   "source": [
    "create_event_folders(FoldersNames)          # run the function"
   ]
  },
  {
   "cell_type": "code",
   "execution_count": 25,
   "metadata": {},
   "outputs": [],
   "source": [
    "# just an example to show how the fnmatch function work, has nothing to do woth the code\n",
    "\n",
    "#File='NL.G414..HHZ.D.2018.031.131003.SAC'       \n",
    "#keyword='2018.031.1310'\n",
    "#fnmatch.fnmatch(File,'*' +keyword + '*')"
   ]
  },
  {
   "cell_type": "code",
   "execution_count": null,
   "metadata": {},
   "outputs": [],
   "source": []
  },
  {
   "cell_type": "code",
   "execution_count": null,
   "metadata": {},
   "outputs": [],
   "source": []
  },
  {
   "cell_type": "code",
   "execution_count": 26,
   "metadata": {},
   "outputs": [],
   "source": [
    "def move_files_to_event_folders(sac_files,Folders):\n",
    "    '''\n",
    "    this function moves the sac files to their event folders\n",
    "    \n",
    "    \n",
    "    ''' \n",
    "    \n",
    "    for name in Folders:              # loop over each folder\n",
    "        for file in sac_files:        # loop over each sac file\n",
    "            if os.path.isfile(file):  # tests if the name in the list exists or already has been moved\n",
    "                if fnmatch.fnmatch(file,'*' + name + '*'):   # tests if the sac file and the folder have the same event name \n",
    "                    shutil.move(file,name)                   # if they have the same name it moves the sac file to the folder"
   ]
  },
  {
   "cell_type": "code",
   "execution_count": 27,
   "metadata": {},
   "outputs": [],
   "source": [
    "move_files_to_event_folders(directory_files,FoldersNames)"
   ]
  },
  {
   "cell_type": "code",
   "execution_count": null,
   "metadata": {},
   "outputs": [],
   "source": []
  },
  {
   "cell_type": "code",
   "execution_count": null,
   "metadata": {},
   "outputs": [],
   "source": []
  },
  {
   "cell_type": "code",
   "execution_count": null,
   "metadata": {},
   "outputs": [],
   "source": []
  },
  {
   "cell_type": "code",
   "execution_count": null,
   "metadata": {},
   "outputs": [],
   "source": []
  }
 ],
 "metadata": {
  "kernelspec": {
   "display_name": "Python 3",
   "language": "python",
   "name": "python3"
  },
  "language_info": {
   "codemirror_mode": {
    "name": "ipython",
    "version": 3
   },
   "file_extension": ".py",
   "mimetype": "text/x-python",
   "name": "python",
   "nbconvert_exporter": "python",
   "pygments_lexer": "ipython3",
   "version": "3.7.9"
  }
 },
 "nbformat": 4,
 "nbformat_minor": 2
}
